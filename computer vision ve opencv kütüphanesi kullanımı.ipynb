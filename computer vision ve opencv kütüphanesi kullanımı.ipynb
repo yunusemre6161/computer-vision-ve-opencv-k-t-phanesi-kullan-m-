{
 "cells": [
  {
   "attachments": {},
   "cell_type": "markdown",
   "id": "a90db1ba-6346-456c-b18f-a494c03a7eef",
   "metadata": {},
   "source": [
    "# Computer Vision\n",
    "\n",
    "Computer Vision, bilgisayarların nesneleri tanıyabilme ve ayırt edebilme yeteneğini ifade eden bir bilgisayar bilimi alanıdır. Aynı zamanda Bilgisayarlı Görü olarak da adlandırılabilir. Bu kavram, görüntüleri almak, işlemek, anlamak ve analiz etmek amacıyla kullanılır. Alınan görüntüler ultrason, video, fotoğraf veya farklı kamera türlerine ait olabilir. Bilgisayarlı görü, güvenlik sektöründen medikal alana, otonom araçlardan Google aramalarına kadar birçok alanda yaygın olarak kullanılır. İnsanlar gibi görüntülere bu işlemleri uygulayabilen bilgisayarlar, bilgisayarlı görünün amacını gerçekleştirir. Bu alanda yapılan çalışmalar ve geliştirilen algoritmalar sayesinde bilgisayarlar, insanlar gibi görmeyi, ayırt etmeyi, anlamayı ve yorumlamayı başarabilir. Computer Vision, teknolojinin gelişmesiyle insan yaşamını kolaylaştıran bir öge haline gelmiştir."
   ]
  },
  {
   "attachments": {},
   "cell_type": "markdown",
   "id": "ebfa1415-77ef-4991-9a36-5cfa1cb92932",
   "metadata": {},
   "source": [
    "### OpenCv Kütüphanesi Kullanılarak Yapılabilecek Şeyler\n",
    "\n",
    "1-Yüzleri algılama ve tanıma</br>\n",
    "2-Nesneleri tanımlama</br>\n",
    "3-Videolarda insan eylemlerini sınıflandırma</br>\n",
    "4-Kamera hareketlerini takip etme</br>\n",
    "5-Hareket eden nesneleri takip etme</br>\n",
    "6-Nesnelerin 3B modellerini çıkarma</br>\n",
    "7-Bir resim veritabanından benzer resimler bulma</br>\n",
    "8-Göz hareketlerini takip etme</br>\n",
    "9-Manzarayı tanıma</br>\n",
    "10-Mimik tanıma</br>"
   ]
  },
  {
   "attachments": {},
   "cell_type": "markdown",
   "id": "bf8597a7-af19-4875-9ea5-9fb77b63b804",
   "metadata": {},
   "source": [
    "### Kütüphanenin kurulumumu için gereken kodlar"
   ]
  },
  {
   "cell_type": "code",
   "execution_count": null,
   "id": "e8300d50-497c-42e1-ac2b-cc458bffa579",
   "metadata": {},
   "outputs": [],
   "source": [
    "1- mkvirtualenv opencv_env -p python3\n",
    "2-pip install numpy\n",
    "3-pip install matplotlib\n",
    "4-pip install opencv_python-3.3.1+contrib-cp36-cp36m-win_amd64.whl\n",
    "5-pip install opencv-python\n",
    "6-lssitepackages\n"
   ]
  },
  {
   "attachments": {},
   "cell_type": "markdown",
   "id": "3a012d5b-7d9d-4b64-82fd-0539628cd9ab",
   "metadata": {},
   "source": [
    "### Üsttekii kodları açıklıyarak kütüphanenin kurulması\n"
   ]
  },
  {
   "attachments": {},
   "cell_type": "markdown",
   "id": "5891c074",
   "metadata": {},
   "source": [
    "### <p style=\"font-size:18px;\">1-İlk olarak, Python için bir sanal ortam oluşturmamız gerekiyor. Sanal ortam, projemiz için izole bir çalışma alanı sağlar. Bu sayede kütüphaneleri projemize özgü olarak yönetebiliriz.</p>\n",
    "Sanal ortam oluşturmak için terminalde aşağıdaki komutu çalıştırmalıyız:</p>"
   ]
  },
  {
   "cell_type": "code",
   "execution_count": null,
   "id": "16af5290-9980-42ea-86f9-c4266926ae24",
   "metadata": {},
   "outputs": [],
   "source": [
    "\n",
    "mkvirtualenv opencv_env -p python3\n"
   ]
  },
  {
   "attachments": {},
   "cell_type": "markdown",
   "id": "474f1e1f-1f51-4097-b13b-2997d2f13464",
   "metadata": {},
   "source": [
    "### <p style=\"font-size:18px;\">2-OpenCV’nin kullanımı için NumPy ve Matplotlib kütüphanelerini kurmamız gerekiyor. Bu kütüphaneler matematiksel hesaplamalar ve veri görselleştirmesi için kullanılır.</p>\n",
    "Terminalde sırasıyla aşağıdaki komutları çalıştırın:"
   ]
  },
  {
   "cell_type": "code",
   "execution_count": null,
   "id": "3be2c9b7-6708-4de3-9ab5-215ce741fef0",
   "metadata": {},
   "outputs": [],
   "source": [
    "\n",
    "pip install numpy\n",
    "pip install matplotlib\n"
   ]
  },
  {
   "attachments": {},
   "cell_type": "markdown",
   "id": "1384bf1c-b05d-4ff2-a44b-0740b99eba31",
   "metadata": {},
   "source": [
    "### <p style=\"font-size:18px;\">3-OpenCV’yi indirip kurmak için Python sitesinden Python sürümünüze uygun whl uzantılı dosyayı indiriniz. İndirdiğiniz dosyayı bilgisayarınızdaki Python klasörüne kaydediniz.</p>\n",
    "Terminali yönetici modunda açın ve Python klasörü içinde aşağıdaki komutu çalıştırarak OpenCV’yi kurun:"
   ]
  },
  {
   "cell_type": "code",
   "execution_count": null,
   "id": "b265a851-406a-49c5-af2f-3e8cfaf6087f",
   "metadata": {},
   "outputs": [],
   "source": [
    "\n",
    "pip install opencv_python-3.3.1+contrib-cp36-cp36m-win_amd64.whl\n"
   ]
  },
  {
   "attachments": {},
   "cell_type": "markdown",
   "id": "1f8e4f00-3502-461b-aadf-2b4f2b72b9d7",
   "metadata": {},
   "source": [
    "<p style=\"font-size:18px;\">4-Sanal ortamınıza kurulan paketleri görmek için aşağıdaki komutu çalıştırın:</p>\n",
    " Eğer OpenCV ve NumPy kütüphanelerini görüyorsanız, kurulum başarılıdır."
   ]
  },
  {
   "cell_type": "code",
   "execution_count": null,
   "id": "cdd6cedb-70b0-4b92-bb7e-406f08523a2e",
   "metadata": {},
   "outputs": [],
   "source": [
    "lssitepackages"
   ]
  }
 ],
 "metadata": {
  "kernelspec": {
   "display_name": "Python 3 (ipykernel)",
   "language": "python",
   "name": "python3"
  },
  "language_info": {
   "codemirror_mode": {
    "name": "ipython",
    "version": 3
   },
   "file_extension": ".py",
   "mimetype": "text/x-python",
   "name": "python",
   "nbconvert_exporter": "python",
   "pygments_lexer": "ipython3",
   "version": "3.11.5"
  }
 },
 "nbformat": 4,
 "nbformat_minor": 5
}
